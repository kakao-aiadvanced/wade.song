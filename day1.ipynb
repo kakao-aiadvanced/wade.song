{
 "cells": [
  {
   "metadata": {},
   "cell_type": "raw",
   "source": "pip install llmlingua",
   "id": "ed27527e1caaaf25"
  },
  {
   "metadata": {
    "ExecuteTime": {
     "end_time": "2024-07-29T07:56:23.305188Z",
     "start_time": "2024-07-29T07:56:15.347923Z"
    }
   },
   "cell_type": "code",
   "source": "!curl http://localhost:11434/api/chat -d '{ \"stream\": false, \"model\": \"llama3\", \"messages\": [{ \"role\": \"user\", \"content\": \"why is the sky blue?\" }]}'",
   "id": "e730f664b2dd572c",
   "outputs": [
    {
     "name": "stdout",
     "output_type": "stream",
     "text": [
      "{\"model\":\"llama3\",\"created_at\":\"2024-07-29T07:56:23.196973Z\",\"message\":{\"role\":\"assistant\",\"content\":\"The color of the sky can vary depending on the time of day, atmospheric conditions, and the observer's location. However, the primary reason why the sky typically appears blue to our eyes is due to a phenomenon called Rayleigh scattering.\\n\\nRayleigh scattering is named after Lord Rayleigh, who first described it in the late 19th century. It's a process where shorter (blue) wavelengths of light are scattered more than longer (red) wavelengths by the tiny molecules of gases, such as nitrogen and oxygen, that make up the Earth's atmosphere.\\n\\nHere's what happens:\\n\\n1. When sunlight enters the Earth's atmosphere, it encounters these tiny gas molecules.\\n2. The smaller molecules scatter the shorter blue wavelengths of light in all directions, making them visible to our eyes from every angle.\\n3. The longer red wavelengths of light, on the other hand, are not scattered as much because they interact less with the small molecules.\\n\\nAs a result, the blue light is distributed throughout the sky, giving it its characteristic blue color. This scattering effect is most pronounced during the daytime when the sun is overhead and the atmosphere is filled with more gas molecules.\\n\\nOther factors can also influence the apparent color of the sky:\\n\\n* Atmospheric conditions: Dust, pollution, and water vapor in the air can scatter light in different ways, making the sky appear more hazy or gray.\\n* Time of day: The angle of the sun and the position of the observer can change the perceived color of the sky. For example, during sunrise and sunset, the sky often takes on a reddish hue due to the scattering of longer wavelengths.\\n* Atmospheric particles: Aerosols, like dust, smoke, or pollution, can absorb or scatter light in various ways, altering its apparent color.\\n\\nSo, to summarize, the main reason why the sky is blue is due to Rayleigh scattering, where shorter wavelengths of light (blue) are scattered more than longer wavelengths (red) by tiny gas molecules in the atmosphere.\"},\"done_reason\":\"stop\",\"done\":true,\"total_duration\":7823156583,\"load_duration\":31693916,\"prompt_eval_count\":16,\"prompt_eval_duration\":178657000,\"eval_count\":399,\"eval_duration\":7610951000}"
     ]
    }
   ],
   "execution_count": 5
  },
  {
   "cell_type": "code",
   "id": "initial_id",
   "metadata": {
    "collapsed": true,
    "ExecuteTime": {
     "end_time": "2024-07-29T07:53:49.092665Z",
     "start_time": "2024-07-29T07:53:09.922600Z"
    }
   },
   "source": "!pip install llmlingua",
   "outputs": [
    {
     "name": "stdout",
     "output_type": "stream",
     "text": [
      "Collecting llmlingua\r\n",
      "  Obtaining dependency information for llmlingua from https://files.pythonhosted.org/packages/6e/3e/221fe46a3338f2babdb2082ee42df88fcaa8ea0e639e832cbb1b93c5923a/llmlingua-0.2.2-py3-none-any.whl.metadata\r\n",
      "  Downloading llmlingua-0.2.2-py3-none-any.whl.metadata (17 kB)\r\n",
      "Collecting transformers>=4.26.0 (from llmlingua)\r\n",
      "  Obtaining dependency information for transformers>=4.26.0 from https://files.pythonhosted.org/packages/ad/ff/b3e311e58b9c90b149fb957953b228287d7c9fe78df9a3a72e8715c5fc56/transformers-4.43.3-py3-none-any.whl.metadata\r\n",
      "  Downloading transformers-4.43.3-py3-none-any.whl.metadata (43 kB)\r\n",
      "\u001B[2K     \u001B[90m━━━━━━━━━━━━━━━━━━━━━━━━━━━━━━━━━━━━━━━━\u001B[0m \u001B[32m43.7/43.7 kB\u001B[0m \u001B[31m1.1 MB/s\u001B[0m eta \u001B[36m0:00:00\u001B[0m\r\n",
      "\u001B[?25hCollecting accelerate (from llmlingua)\r\n",
      "  Obtaining dependency information for accelerate from https://files.pythonhosted.org/packages/15/33/b6b4ad5efa8b9f4275d4ed17ff8a44c97276171341ba565fdffb0e3dc5e8/accelerate-0.33.0-py3-none-any.whl.metadata\r\n",
      "  Downloading accelerate-0.33.0-py3-none-any.whl.metadata (18 kB)\r\n",
      "Collecting torch (from llmlingua)\r\n",
      "  Obtaining dependency information for torch from https://files.pythonhosted.org/packages/f8/d2/f9ffcde96164c91f82e154809ad6238f1871f9f2393d56648009287c948e/torch-2.4.0-cp38-none-macosx_11_0_arm64.whl.metadata\r\n",
      "  Downloading torch-2.4.0-cp38-none-macosx_11_0_arm64.whl.metadata (26 kB)\r\n",
      "Collecting tiktoken (from llmlingua)\r\n",
      "  Obtaining dependency information for tiktoken from https://files.pythonhosted.org/packages/e6/04/9a2b978beea18ef8916319e51f6d079c804062df80c63f0392202e5ddf10/tiktoken-0.7.0-cp38-cp38-macosx_11_0_arm64.whl.metadata\r\n",
      "  Downloading tiktoken-0.7.0-cp38-cp38-macosx_11_0_arm64.whl.metadata (6.6 kB)\r\n",
      "Collecting nltk (from llmlingua)\r\n",
      "  Obtaining dependency information for nltk from https://files.pythonhosted.org/packages/a6/0a/0d20d2c0f16be91b9fa32a77b76c60f9baf6eba419e5ef5deca17af9c582/nltk-3.8.1-py3-none-any.whl.metadata\r\n",
      "  Using cached nltk-3.8.1-py3-none-any.whl.metadata (2.8 kB)\r\n",
      "Collecting numpy (from llmlingua)\r\n",
      "  Obtaining dependency information for numpy from https://files.pythonhosted.org/packages/a7/ae/f53b7b265fdc701e663fbb322a8e9d4b14d9cb7b2385f45ddfabfc4327e4/numpy-1.24.4-cp38-cp38-macosx_11_0_arm64.whl.metadata\r\n",
      "  Using cached numpy-1.24.4-cp38-cp38-macosx_11_0_arm64.whl.metadata (5.6 kB)\r\n",
      "Collecting filelock (from transformers>=4.26.0->llmlingua)\r\n",
      "  Obtaining dependency information for filelock from https://files.pythonhosted.org/packages/ae/f0/48285f0262fe47103a4a45972ed2f9b93e4c80b8fd609fa98da78b2a5706/filelock-3.15.4-py3-none-any.whl.metadata\r\n",
      "  Downloading filelock-3.15.4-py3-none-any.whl.metadata (2.9 kB)\r\n",
      "Collecting huggingface-hub<1.0,>=0.23.2 (from transformers>=4.26.0->llmlingua)\r\n",
      "  Obtaining dependency information for huggingface-hub<1.0,>=0.23.2 from https://files.pythonhosted.org/packages/93/14/6a82b1c2eab5a828f7d3d675811660eb68424e8b039191f418a94e8d9726/huggingface_hub-0.24.2-py3-none-any.whl.metadata\r\n",
      "  Downloading huggingface_hub-0.24.2-py3-none-any.whl.metadata (13 kB)\r\n",
      "Requirement already satisfied: packaging>=20.0 in ./.venv/lib/python3.8/site-packages (from transformers>=4.26.0->llmlingua) (24.1)\r\n",
      "Requirement already satisfied: pyyaml>=5.1 in ./.venv/lib/python3.8/site-packages (from transformers>=4.26.0->llmlingua) (6.0.1)\r\n",
      "Collecting regex!=2019.12.17 (from transformers>=4.26.0->llmlingua)\r\n",
      "  Obtaining dependency information for regex!=2019.12.17 from https://files.pythonhosted.org/packages/71/cb/1cafb0c7cca13bf1d1a5ae4f45d6c0c86014806adb5dad846ea739661e8b/regex-2024.7.24-cp38-cp38-macosx_11_0_arm64.whl.metadata\r\n",
      "  Downloading regex-2024.7.24-cp38-cp38-macosx_11_0_arm64.whl.metadata (40 kB)\r\n",
      "\u001B[2K     \u001B[90m━━━━━━━━━━━━━━━━━━━━━━━━━━━━━━━━━━━━━━━━\u001B[0m \u001B[32m40.5/40.5 kB\u001B[0m \u001B[31m1.4 MB/s\u001B[0m eta \u001B[36m0:00:00\u001B[0m\r\n",
      "\u001B[?25hRequirement already satisfied: requests in ./.venv/lib/python3.8/site-packages (from transformers>=4.26.0->llmlingua) (2.32.3)\r\n",
      "Collecting safetensors>=0.4.1 (from transformers>=4.26.0->llmlingua)\r\n",
      "  Obtaining dependency information for safetensors>=0.4.1 from https://files.pythonhosted.org/packages/ad/6c/bcf5f5c23f46a3db3e8eb454e688a489be641d10c9402af71842a31c644c/safetensors-0.4.3-cp38-cp38-macosx_11_0_arm64.whl.metadata\r\n",
      "  Downloading safetensors-0.4.3-cp38-cp38-macosx_11_0_arm64.whl.metadata (3.8 kB)\r\n",
      "Collecting tokenizers<0.20,>=0.19 (from transformers>=4.26.0->llmlingua)\r\n",
      "  Obtaining dependency information for tokenizers<0.20,>=0.19 from https://files.pythonhosted.org/packages/85/de/5e53efc7ba183e89ed73d6cc3bc1a08f0ee73770574694c8fb361dbb35e9/tokenizers-0.19.1-cp38-cp38-macosx_11_0_arm64.whl.metadata\r\n",
      "  Downloading tokenizers-0.19.1-cp38-cp38-macosx_11_0_arm64.whl.metadata (6.7 kB)\r\n",
      "Collecting tqdm>=4.27 (from transformers>=4.26.0->llmlingua)\r\n",
      "  Obtaining dependency information for tqdm>=4.27 from https://files.pythonhosted.org/packages/18/eb/fdb7eb9e48b7b02554e1664afd3bd3f117f6b6d6c5881438a0b055554f9b/tqdm-4.66.4-py3-none-any.whl.metadata\r\n",
      "  Using cached tqdm-4.66.4-py3-none-any.whl.metadata (57 kB)\r\n",
      "Requirement already satisfied: psutil in ./.venv/lib/python3.8/site-packages (from accelerate->llmlingua) (6.0.0)\r\n",
      "Requirement already satisfied: typing-extensions>=4.8.0 in ./.venv/lib/python3.8/site-packages (from torch->llmlingua) (4.12.2)\r\n",
      "Collecting sympy (from torch->llmlingua)\r\n",
      "  Obtaining dependency information for sympy from https://files.pythonhosted.org/packages/b2/fe/81695a1aa331a842b582453b605175f419fe8540355886031328089d840a/sympy-1.13.1-py3-none-any.whl.metadata\r\n",
      "  Downloading sympy-1.13.1-py3-none-any.whl.metadata (12 kB)\r\n",
      "Collecting networkx (from torch->llmlingua)\r\n",
      "  Obtaining dependency information for networkx from https://files.pythonhosted.org/packages/a8/05/9d4f9b78ead6b2661d6e8ea772e111fc4a9fbd866ad0c81906c11206b55e/networkx-3.1-py3-none-any.whl.metadata\r\n",
      "  Downloading networkx-3.1-py3-none-any.whl.metadata (5.3 kB)\r\n",
      "Requirement already satisfied: jinja2 in ./.venv/lib/python3.8/site-packages (from torch->llmlingua) (3.1.4)\r\n",
      "Collecting fsspec (from torch->llmlingua)\r\n",
      "  Obtaining dependency information for fsspec from https://files.pythonhosted.org/packages/5e/44/73bea497ac69bafde2ee4269292fa3b41f1198f4bb7bbaaabde30ad29d4a/fsspec-2024.6.1-py3-none-any.whl.metadata\r\n",
      "  Using cached fsspec-2024.6.1-py3-none-any.whl.metadata (11 kB)\r\n",
      "Collecting click (from nltk->llmlingua)\r\n",
      "  Obtaining dependency information for click from https://files.pythonhosted.org/packages/00/2e/d53fa4befbf2cfa713304affc7ca780ce4fc1fd8710527771b58311a3229/click-8.1.7-py3-none-any.whl.metadata\r\n",
      "  Using cached click-8.1.7-py3-none-any.whl.metadata (3.0 kB)\r\n",
      "Collecting joblib (from nltk->llmlingua)\r\n",
      "  Obtaining dependency information for joblib from https://files.pythonhosted.org/packages/91/29/df4b9b42f2be0b623cbd5e2140cafcaa2bef0759a00b7b70104dcfe2fb51/joblib-1.4.2-py3-none-any.whl.metadata\r\n",
      "  Using cached joblib-1.4.2-py3-none-any.whl.metadata (5.4 kB)\r\n",
      "Requirement already satisfied: charset-normalizer<4,>=2 in ./.venv/lib/python3.8/site-packages (from requests->transformers>=4.26.0->llmlingua) (3.3.2)\r\n",
      "Requirement already satisfied: idna<4,>=2.5 in ./.venv/lib/python3.8/site-packages (from requests->transformers>=4.26.0->llmlingua) (3.7)\r\n",
      "Requirement already satisfied: urllib3<3,>=1.21.1 in ./.venv/lib/python3.8/site-packages (from requests->transformers>=4.26.0->llmlingua) (2.2.2)\r\n",
      "Requirement already satisfied: certifi>=2017.4.17 in ./.venv/lib/python3.8/site-packages (from requests->transformers>=4.26.0->llmlingua) (2024.7.4)\r\n",
      "Requirement already satisfied: MarkupSafe>=2.0 in ./.venv/lib/python3.8/site-packages (from jinja2->torch->llmlingua) (2.1.5)\r\n",
      "Collecting mpmath<1.4,>=1.1.0 (from sympy->torch->llmlingua)\r\n",
      "  Obtaining dependency information for mpmath<1.4,>=1.1.0 from https://files.pythonhosted.org/packages/43/e3/7d92a15f894aa0c9c4b49b8ee9ac9850d6e63b03c9c32c0367a13ae62209/mpmath-1.3.0-py3-none-any.whl.metadata\r\n",
      "  Downloading mpmath-1.3.0-py3-none-any.whl.metadata (8.6 kB)\r\n",
      "Downloading llmlingua-0.2.2-py3-none-any.whl (30 kB)\r\n",
      "Downloading transformers-4.43.3-py3-none-any.whl (9.4 MB)\r\n",
      "\u001B[2K   \u001B[90m━━━━━━━━━━━━━━━━━━━━━━━━━━━━━━━━━━━━━━━━\u001B[0m \u001B[32m9.4/9.4 MB\u001B[0m \u001B[31m5.3 MB/s\u001B[0m eta \u001B[36m0:00:00\u001B[0m00:01\u001B[0m00:01\u001B[0m\r\n",
      "\u001B[?25hUsing cached numpy-1.24.4-cp38-cp38-macosx_11_0_arm64.whl (13.8 MB)\r\n",
      "Downloading accelerate-0.33.0-py3-none-any.whl (315 kB)\r\n",
      "\u001B[2K   \u001B[90m━━━━━━━━━━━━━━━━━━━━━━━━━━━━━━━━━━━━━━━━\u001B[0m \u001B[32m315.1/315.1 kB\u001B[0m \u001B[31m7.1 MB/s\u001B[0m eta \u001B[36m0:00:00\u001B[0mta \u001B[36m0:00:01\u001B[0m\r\n",
      "\u001B[?25hDownloading torch-2.4.0-cp38-none-macosx_11_0_arm64.whl (62.1 MB)\r\n",
      "\u001B[2K   \u001B[90m━━━━━━━━━━━━━━━━━━━━━━━━━━━━━━━━━━━━━━━━\u001B[0m \u001B[32m62.1/62.1 MB\u001B[0m \u001B[31m7.0 MB/s\u001B[0m eta \u001B[36m0:00:00\u001B[0m00:01\u001B[0m00:01\u001B[0mm\r\n",
      "\u001B[?25hUsing cached nltk-3.8.1-py3-none-any.whl (1.5 MB)\r\n",
      "Downloading tiktoken-0.7.0-cp38-cp38-macosx_11_0_arm64.whl (906 kB)\r\n",
      "\u001B[2K   \u001B[90m━━━━━━━━━━━━━━━━━━━━━━━━━━━━━━━━━━━━━━━━\u001B[0m \u001B[32m906.8/906.8 kB\u001B[0m \u001B[31m4.7 MB/s\u001B[0m eta \u001B[36m0:00:00\u001B[0ma \u001B[36m0:00:01\u001B[0mm\r\n",
      "\u001B[?25hDownloading huggingface_hub-0.24.2-py3-none-any.whl (417 kB)\r\n",
      "\u001B[2K   \u001B[90m━━━━━━━━━━━━━━━━━━━━━━━━━━━━━━━━━━━━━━━━\u001B[0m \u001B[32m417.2/417.2 kB\u001B[0m \u001B[31m7.9 MB/s\u001B[0m eta \u001B[36m0:00:00\u001B[0m:00:01\u001B[0m\r\n",
      "\u001B[?25hUsing cached fsspec-2024.6.1-py3-none-any.whl (177 kB)\r\n",
      "Downloading regex-2024.7.24-cp38-cp38-macosx_11_0_arm64.whl (278 kB)\r\n",
      "\u001B[2K   \u001B[90m━━━━━━━━━━━━━━━━━━━━━━━━━━━━━━━━━━━━━━━━\u001B[0m \u001B[32m278.9/278.9 kB\u001B[0m \u001B[31m9.6 MB/s\u001B[0m eta \u001B[36m0:00:00\u001B[0m\r\n",
      "\u001B[?25hDownloading safetensors-0.4.3-cp38-cp38-macosx_11_0_arm64.whl (411 kB)\r\n",
      "\u001B[2K   \u001B[90m━━━━━━━━━━━━━━━━━━━━━━━━━━━━━━━━━━━━━━━━\u001B[0m \u001B[32m411.5/411.5 kB\u001B[0m \u001B[31m12.2 MB/s\u001B[0m eta \u001B[36m0:00:00\u001B[0m\r\n",
      "\u001B[?25hDownloading tokenizers-0.19.1-cp38-cp38-macosx_11_0_arm64.whl (2.4 MB)\r\n",
      "\u001B[2K   \u001B[90m━━━━━━━━━━━━━━━━━━━━━━━━━━━━━━━━━━━━━━━━\u001B[0m \u001B[32m2.4/2.4 MB\u001B[0m \u001B[31m25.5 MB/s\u001B[0m eta \u001B[36m0:00:00\u001B[0m00:01\u001B[0m00:01\u001B[0m\r\n",
      "\u001B[?25hUsing cached tqdm-4.66.4-py3-none-any.whl (78 kB)\r\n",
      "Using cached click-8.1.7-py3-none-any.whl (97 kB)\r\n",
      "Downloading filelock-3.15.4-py3-none-any.whl (16 kB)\r\n",
      "Using cached joblib-1.4.2-py3-none-any.whl (301 kB)\r\n",
      "Downloading networkx-3.1-py3-none-any.whl (2.1 MB)\r\n",
      "\u001B[2K   \u001B[90m━━━━━━━━━━━━━━━━━━━━━━━━━━━━━━━━━━━━━━━━\u001B[0m \u001B[32m2.1/2.1 MB\u001B[0m \u001B[31m10.3 MB/s\u001B[0m eta \u001B[36m0:00:00\u001B[0m00:01\u001B[0m00:01\u001B[0m\r\n",
      "\u001B[?25hDownloading sympy-1.13.1-py3-none-any.whl (6.2 MB)\r\n",
      "\u001B[2K   \u001B[90m━━━━━━━━━━━━━━━━━━━━━━━━━━━━━━━━━━━━━━━━\u001B[0m \u001B[32m6.2/6.2 MB\u001B[0m \u001B[31m7.9 MB/s\u001B[0m eta \u001B[36m0:00:00\u001B[0ma \u001B[36m0:00:01\u001B[0mm\r\n",
      "\u001B[?25hUsing cached mpmath-1.3.0-py3-none-any.whl (536 kB)\r\n",
      "Installing collected packages: mpmath, tqdm, sympy, safetensors, regex, numpy, networkx, joblib, fsspec, filelock, click, torch, tiktoken, nltk, huggingface-hub, tokenizers, accelerate, transformers, llmlingua\r\n",
      "Successfully installed accelerate-0.33.0 click-8.1.7 filelock-3.15.4 fsspec-2024.6.1 huggingface-hub-0.24.2 joblib-1.4.2 llmlingua-0.2.2 mpmath-1.3.0 networkx-3.1 nltk-3.8.1 numpy-1.24.4 regex-2024.7.24 safetensors-0.4.3 sympy-1.13.1 tiktoken-0.7.0 tokenizers-0.19.1 torch-2.4.0 tqdm-4.66.4 transformers-4.43.3\r\n",
      "\r\n",
      "\u001B[1m[\u001B[0m\u001B[34;49mnotice\u001B[0m\u001B[1;39;49m]\u001B[0m\u001B[39;49m A new release of pip is available: \u001B[0m\u001B[31;49m23.2.1\u001B[0m\u001B[39;49m -> \u001B[0m\u001B[32;49m24.2\u001B[0m\r\n",
      "\u001B[1m[\u001B[0m\u001B[34;49mnotice\u001B[0m\u001B[1;39;49m]\u001B[0m\u001B[39;49m To update, run: \u001B[0m\u001B[32;49mpip install --upgrade pip\u001B[0m\r\n"
     ]
    }
   ],
   "execution_count": 1
  },
  {
   "metadata": {
    "ExecuteTime": {
     "end_time": "2024-07-29T07:54:06.932902Z",
     "start_time": "2024-07-29T07:54:02.447298Z"
    }
   },
   "cell_type": "code",
   "source": "!pip install openai\n",
   "id": "56e6647fbee7755e",
   "outputs": [
    {
     "name": "stdout",
     "output_type": "stream",
     "text": [
      "Collecting openai\r\n",
      "  Obtaining dependency information for openai from https://files.pythonhosted.org/packages/43/18/8425b246cefad230b2574018bba0c039d70750b0a270eba1c9576a1fcab2/openai-1.37.1-py3-none-any.whl.metadata\r\n",
      "  Downloading openai-1.37.1-py3-none-any.whl.metadata (22 kB)\r\n",
      "Requirement already satisfied: anyio<5,>=3.5.0 in ./.venv/lib/python3.8/site-packages (from openai) (4.4.0)\r\n",
      "Collecting distro<2,>=1.7.0 (from openai)\r\n",
      "  Obtaining dependency information for distro<2,>=1.7.0 from https://files.pythonhosted.org/packages/12/b3/231ffd4ab1fc9d679809f356cebee130ac7daa00d6d6f3206dd4fd137e9e/distro-1.9.0-py3-none-any.whl.metadata\r\n",
      "  Using cached distro-1.9.0-py3-none-any.whl.metadata (6.8 kB)\r\n",
      "Requirement already satisfied: httpx<1,>=0.23.0 in ./.venv/lib/python3.8/site-packages (from openai) (0.27.0)\r\n",
      "Collecting pydantic<3,>=1.9.0 (from openai)\r\n",
      "  Obtaining dependency information for pydantic<3,>=1.9.0 from https://files.pythonhosted.org/packages/1f/fa/b7f815b8c9ad021c07f88875b601222ef5e70619391ade4a49234d12d278/pydantic-2.8.2-py3-none-any.whl.metadata\r\n",
      "  Using cached pydantic-2.8.2-py3-none-any.whl.metadata (125 kB)\r\n",
      "Requirement already satisfied: sniffio in ./.venv/lib/python3.8/site-packages (from openai) (1.3.1)\r\n",
      "Requirement already satisfied: tqdm>4 in ./.venv/lib/python3.8/site-packages (from openai) (4.66.4)\r\n",
      "Requirement already satisfied: typing-extensions<5,>=4.7 in ./.venv/lib/python3.8/site-packages (from openai) (4.12.2)\r\n",
      "Requirement already satisfied: idna>=2.8 in ./.venv/lib/python3.8/site-packages (from anyio<5,>=3.5.0->openai) (3.7)\r\n",
      "Requirement already satisfied: exceptiongroup>=1.0.2 in ./.venv/lib/python3.8/site-packages (from anyio<5,>=3.5.0->openai) (1.2.2)\r\n",
      "Requirement already satisfied: certifi in ./.venv/lib/python3.8/site-packages (from httpx<1,>=0.23.0->openai) (2024.7.4)\r\n",
      "Requirement already satisfied: httpcore==1.* in ./.venv/lib/python3.8/site-packages (from httpx<1,>=0.23.0->openai) (1.0.5)\r\n",
      "Requirement already satisfied: h11<0.15,>=0.13 in ./.venv/lib/python3.8/site-packages (from httpcore==1.*->httpx<1,>=0.23.0->openai) (0.14.0)\r\n",
      "Collecting annotated-types>=0.4.0 (from pydantic<3,>=1.9.0->openai)\r\n",
      "  Obtaining dependency information for annotated-types>=0.4.0 from https://files.pythonhosted.org/packages/78/b6/6307fbef88d9b5ee7421e68d78a9f162e0da4900bc5f5793f6d3d0e34fb8/annotated_types-0.7.0-py3-none-any.whl.metadata\r\n",
      "  Using cached annotated_types-0.7.0-py3-none-any.whl.metadata (15 kB)\r\n",
      "Collecting pydantic-core==2.20.1 (from pydantic<3,>=1.9.0->openai)\r\n",
      "  Obtaining dependency information for pydantic-core==2.20.1 from https://files.pythonhosted.org/packages/6f/b2/6d84fa138fd98d6af0d68d90284a0866a16d6e128dd9638f92239342f457/pydantic_core-2.20.1-cp38-cp38-macosx_11_0_arm64.whl.metadata\r\n",
      "  Downloading pydantic_core-2.20.1-cp38-cp38-macosx_11_0_arm64.whl.metadata (6.6 kB)\r\n",
      "Downloading openai-1.37.1-py3-none-any.whl (337 kB)\r\n",
      "\u001B[2K   \u001B[90m━━━━━━━━━━━━━━━━━━━━━━━━━━━━━━━━━━━━━━━━\u001B[0m \u001B[32m337.0/337.0 kB\u001B[0m \u001B[31m1.0 MB/s\u001B[0m eta \u001B[36m0:00:00\u001B[0ma \u001B[36m0:00:01\u001B[0mm\r\n",
      "\u001B[?25hUsing cached distro-1.9.0-py3-none-any.whl (20 kB)\r\n",
      "Using cached pydantic-2.8.2-py3-none-any.whl (423 kB)\r\n",
      "Downloading pydantic_core-2.20.1-cp38-cp38-macosx_11_0_arm64.whl (1.7 MB)\r\n",
      "\u001B[2K   \u001B[90m━━━━━━━━━━━━━━━━━━━━━━━━━━━━━━━━━━━━━━━━\u001B[0m \u001B[32m1.7/1.7 MB\u001B[0m \u001B[31m1.8 MB/s\u001B[0m eta \u001B[36m0:00:00\u001B[0m00:01\u001B[0m00:01\u001B[0m\r\n",
      "\u001B[?25hUsing cached annotated_types-0.7.0-py3-none-any.whl (13 kB)\r\n",
      "Installing collected packages: pydantic-core, distro, annotated-types, pydantic, openai\r\n",
      "Successfully installed annotated-types-0.7.0 distro-1.9.0 openai-1.37.1 pydantic-2.8.2 pydantic-core-2.20.1\r\n",
      "\r\n",
      "\u001B[1m[\u001B[0m\u001B[34;49mnotice\u001B[0m\u001B[1;39;49m]\u001B[0m\u001B[39;49m A new release of pip is available: \u001B[0m\u001B[31;49m23.2.1\u001B[0m\u001B[39;49m -> \u001B[0m\u001B[32;49m24.2\u001B[0m\r\n",
      "\u001B[1m[\u001B[0m\u001B[34;49mnotice\u001B[0m\u001B[1;39;49m]\u001B[0m\u001B[39;49m To update, run: \u001B[0m\u001B[32;49mpip install --upgrade pip\u001B[0m\r\n"
     ]
    }
   ],
   "execution_count": 2
  },
  {
   "metadata": {
    "ExecuteTime": {
     "end_time": "2024-07-29T08:02:10.065872Z",
     "start_time": "2024-07-29T08:02:10.058892Z"
    }
   },
   "cell_type": "code",
   "source": [
    "import openai\n",
    "import os\n",
    "\n",
    "client = openai.OpenAI(\n",
    "    # This is the default and can be omitted\n",
    "    api_key=\"\",\n",
    ")\n"
   ],
   "id": "fb7d4b76d4ffd6fe",
   "outputs": [],
   "execution_count": 16
  },
  {
   "metadata": {
    "ExecuteTime": {
     "end_time": "2024-07-29T08:03:47.511533Z",
     "start_time": "2024-07-29T08:03:47.507643Z"
    }
   },
   "cell_type": "code",
   "source": [
    "def chat(message):\n",
    "    chat_completion = client.chat.completions.create(\n",
    "        messages=[\n",
    "            {\n",
    "                \"role\": \"user\",\n",
    "                \"content\": message,\n",
    "            }\n",
    "        ],\n",
    "        model=\"gpt-4o-mini\",\n",
    "    )\n",
    "    return chat_completion.choices[0].message.content\n"
   ],
   "id": "e5e41a536d749f5f",
   "outputs": [],
   "execution_count": 18
  },
  {
   "metadata": {
    "ExecuteTime": {
     "end_time": "2024-07-29T08:04:09.016819Z",
     "start_time": "2024-07-29T08:03:59.729583Z"
    }
   },
   "cell_type": "code",
   "source": "chat(\"What are the best places in Korea?\")",
   "id": "aed733758ccbda59",
   "outputs": [
    {
     "data": {
      "text/plain": [
       "'South Korea is a country rich in culture, history, and natural beauty, offering a wide range of attractions. Here are some of the best places to visit in Korea:\\n\\n### 1. **Seoul**\\n   - **Gyeongbokgung Palace**: The largest of the Five Grand Palaces, rich in history and architecture.\\n   - **Bukchon Hanok Village**: A traditional Korean village with charming hanok houses.\\n   - **Insadong**: A neighborhood known for traditional crafts, tea houses, and art galleries.\\n   - **Myeongdong**: A bustling shopping district famous for street food and cosmetics.\\n   - **N Seoul Tower**: Offers panoramic views of the city, especially beautiful at night.\\n\\n### 2. **Busan**\\n   - **Haeundae Beach**: One of Korea’s most famous beaches, ideal for relaxation and water sports.\\n   - **Gamcheon Culture Village**: A colorful village known for its artistic vibe and stunning views.\\n   - **Jagalchi Fish Market**: The largest seafood market in Korea, offering fresh catches and local delicacies.\\n   - **Taejongdae Resort Park**: A scenic coastal area with beautiful cliffs and walking trails.\\n\\n### 3. **Jeju Island**\\n   - **Hallasan National Park**: Home to the tallest mountain in South Korea, great for hiking and nature.\\n   - **Seongsan Ilchulbong (Sunrise Peak)**: A UNESCO World Heritage site known for its stunning sunrise views.\\n   - **Manjanggul Cave**: One of the longest lava tubes in the world, remarkable for its geological formations.\\n   - **Jeongbang Waterfall**: A breathtaking waterfall that falls directly into the ocean.\\n\\n### 4. **Gyeongju**\\n   - **Bulguksa Temple**: A UNESCO World Heritage site, famous for its beautiful architecture.\\n   - **Seokin River**: Offers picturesque views and historical sites.\\n   - **Ancient Tombs**: Exploring the burial mounds of Silla kings provides insight into ancient history.\\n\\n### 5. **Incheon**\\n   - **Incheon Chinatown**: Features vibrant culture, food, and shops, representing Korean-Chinese heritage.\\n   - **Songdo International Business District**: A modern urban area with innovative architecture.\\n   - **Incheon Grand Park**: An expansive green space ideal for picnics, walking, and cycling.\\n\\n### 6. **Suwon**\\n   - **Hwaseong Fortress**: A UNESCO World Heritage site known for its impressive walls and architecture.\\n   - **Korean Folk Village**: A living museum that showcases traditional Korean life.\\n\\n### 7. **Sokcho and Seoraksan National Park**\\n   - **Seoraksan National Park**: Renowned for its stunning mountain scenery, hiking trails, and biodiversity.\\n   - **Sokcho Beach**: A popular beach with beautiful views and a laid-back atmosphere.\\n\\n### 8. **DMZ (Demilitarized Zone)**\\n   - A unique opportunity to learn about Korea’s history and ongoing division. Guided tours offer insight into the conflict and its impact.\\n\\n### 9. **Andong**\\n   - **Hahoe Folk Village**: A UNESCO World Heritage site preserved for its traditional Korean houses and culture.\\n\\n### 10. **Pyeongchang**\\n   - Known for its beautiful nature and as the host of the 2018 Winter Olympics. Great for skiing in winter and hiking in summer.\\n\\nEach of these places offers a unique experience, from exploring historical sites to enjoying modern attractions and stunning landscapes.'"
      ]
     },
     "execution_count": 19,
     "metadata": {},
     "output_type": "execute_result"
    }
   ],
   "execution_count": 19
  },
  {
   "metadata": {
    "ExecuteTime": {
     "end_time": "2024-07-29T08:05:17.074740Z",
     "start_time": "2024-07-29T08:05:03.527125Z"
    }
   },
   "cell_type": "code",
   "source": "chat(\"What are the tourist attractions in Korea?\")",
   "id": "7b828f2a42ae93a2",
   "outputs": [
    {
     "data": {
      "text/plain": [
       "'Korea, known for its rich history, vibrant culture, and stunning landscapes, offers a wide range of tourist attractions. Here are some popular destinations across South Korea:\\n\\n### Cultural and Historical Sites:\\n1. **Gyeongbokgung Palace** (Seoul) - The largest of the Five Grand Palaces, featuring beautiful architecture and the changing of the guard ceremony.\\n2. **Bukchon Hanok Village** (Seoul) - A traditional Korean village with hanok (traditional houses), offering a glimpse into Korea\\'s past.\\n3. **Changdeokgung Palace** (Seoul) - A UNESCO World Heritage Site known for its beautiful secret garden.\\n4. **Jogyesa Temple** (Seoul) - The main temple of the Jogye Order of Korean Buddhism, famous for its vibrant lanterns and serene atmosphere.\\n5. **Hwaseong Fortress** (Suwon) - A UNESCO World Heritage Site with impressive walls and architecture.\\n\\n### Natural Attractions:\\n1. **Seoraksan National Park** - Renowned for its stunning mountain scenery, hiking trails, and diverse flora and fauna.\\n2. **Jeju Island** - A volcanic island known for its beautiful beaches, Hallasan Mountain, and unique volcanic landscapes.\\n3. **Namsan Park** (Seoul) - Home to N Seoul Tower, offering panoramic views of the city.\\n\\n### Modern Attractions:\\n1. **Lotte World** (Seoul) - One of the world\\'s largest indoor amusement parks, complete with an aquarium and shopping mall.\\n2. **Dongdaemun Design Plaza (DDP)** (Seoul) - A modern architectural landmark with exhibition spaces, shops, and a park.\\n3. **Gangnam District** (Seoul) - Famous for shopping, entertainment, and nightlife, popularized by the “Gangnam Style” song.\\n\\n### Cultural Experiences:\\n1. **Korean Demilitarized Zone (DMZ)** - A unique historical site that separates North and South Korea, offering guided tours and educational insights.\\n2. **Traditional Korean Markets** - Such as Gwangjang Market and Namdaemun Market, where visitors can experience local food and shopping.\\n3. **Han River** (Seoul) - Offers parks, bike trails, and river cruises, providing a scenic view of the city.\\n\\n### Festivals and Events:\\n1. **Boryeong Mud Festival** - A popular summer festival featuring mud wrestling and other outdoor activities.\\n2. **Cherry Blossom Festivals** - Held in various cities, particularly in April, marking the blooming of cherry blossom trees.\\n\\n### Coastal Attractions:\\n1. **Busan** - Known for its beaches like Haeundae and Gwangalli, the bustling Jagalchi Fish Market, and the picturesque Gamcheon Culture Village.\\n2. **Gyeongju** - A city rich in history, known as \"the museum without walls,\" featuring ancient tombs, temples, and the UNESCO World Heritage Site of Bulguksa Temple.\\n\\nThese attractions reflect Korea\\'s blend of tradition and modernity, making it a fascinating destination for travelers.'"
      ]
     },
     "execution_count": 20,
     "metadata": {},
     "output_type": "execute_result"
    }
   ],
   "execution_count": 20
  },
  {
   "metadata": {
    "ExecuteTime": {
     "end_time": "2024-07-29T08:07:14.241389Z",
     "start_time": "2024-07-29T08:07:13.691458Z"
    }
   },
   "cell_type": "code",
   "source": [
    "chat('''\n",
    "Translate the following words to Korean:\n",
    "1. book: 책\n",
    "2. cheese: 치즈\n",
    "3. water: 물\n",
    "4. bread: 빵\n",
    "5. apple: 사과\n",
    "\n",
    "Translate the word \"dog\" in same format:\n",
    "''')"
   ],
   "id": "7d1b8451d625d046",
   "outputs": [
    {
     "data": {
      "text/plain": [
       "'dog: 개'"
      ]
     },
     "execution_count": 22,
     "metadata": {},
     "output_type": "execute_result"
    }
   ],
   "execution_count": 22
  },
  {
   "metadata": {
    "ExecuteTime": {
     "end_time": "2024-07-29T08:07:45.864556Z",
     "start_time": "2024-07-29T08:07:45.087843Z"
    }
   },
   "cell_type": "code",
   "source": [
    "chat('''\n",
    "Determine the sentiment (positive or negative) of the following movie reviews:\n",
    "1. \"The movie was fantastic and had great acting.\": positive\n",
    "2. \"I hated the film; it was a complete waste of time.\": negative\n",
    "3. \"An excellent film that kept me on the edge of my seat.\": positive\n",
    "4. \"Terrible plot and horrible acting.\": negative\n",
    "5. \"A wonderful experience with stunning visuals.\": positive\n",
    "\n",
    "Review: \"The storyline was dull and uninspiring.\"\n",
    "Sentiment:\n",
    "''')"
   ],
   "id": "e4feed8ab90f38e4",
   "outputs": [
    {
     "data": {
      "text/plain": [
       "'negative'"
      ]
     },
     "execution_count": 23,
     "metadata": {},
     "output_type": "execute_result"
    }
   ],
   "execution_count": 23
  },
  {
   "metadata": {
    "ExecuteTime": {
     "end_time": "2024-07-29T08:10:01.473996Z",
     "start_time": "2024-07-29T08:10:00.658962Z"
    }
   },
   "cell_type": "code",
   "source": [
    "chat('''\n",
    "Convert the following natural language requests into SQL queries (only SQL queries):\n",
    "1. \"Show all employees with a salary greater than $50,000.\": SELECT * FROM employees WHERE salary > 50000;\n",
    "2. \"List all products that are out of stock.\": SELECT * FROM products WHERE stock = 0;\n",
    "3. \"Find the names of students who scored above 90 in math.\": SELECT name FROM students WHERE math_score > 90;\n",
    "4. \"Retrieve the details of orders placed in the last 30 days.\": SELECT * FROM orders WHERE order_date >= DATE_SUB(CURDATE(), INTERVAL 30 DAY);\n",
    "5. \"Get the count of customers from each city.\": SELECT city, COUNT(*) FROM customers GROUP BY city;\n",
    "\n",
    "\n",
    "Request: \"Find the average salary of employees in the marketing department.\"\n",
    "SQL Query:\n",
    "''')"
   ],
   "id": "c46037ce65feb156",
   "outputs": [
    {
     "data": {
      "text/plain": [
       "\"SELECT AVG(salary) FROM employees WHERE department = 'marketing';\""
      ]
     },
     "execution_count": 25,
     "metadata": {},
     "output_type": "execute_result"
    }
   ],
   "execution_count": 25
  },
  {
   "metadata": {},
   "cell_type": "code",
   "outputs": [],
   "execution_count": null,
   "source": "",
   "id": "2b971cd41df1e367"
  }
 ],
 "metadata": {
  "kernelspec": {
   "display_name": "Python 3",
   "language": "python",
   "name": "python3"
  },
  "language_info": {
   "codemirror_mode": {
    "name": "ipython",
    "version": 2
   },
   "file_extension": ".py",
   "mimetype": "text/x-python",
   "name": "python",
   "nbconvert_exporter": "python",
   "pygments_lexer": "ipython2",
   "version": "2.7.6"
  }
 },
 "nbformat": 4,
 "nbformat_minor": 5
}
